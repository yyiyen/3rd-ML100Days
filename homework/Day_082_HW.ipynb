{
 "cells": [
  {
   "cell_type": "markdown",
   "metadata": {},
   "source": [
    "## Work\n",
    "1. 請比較使用不同層數以及不同 Dropout rate 對訓練的效果\n",
    "2. 將 optimizer 改成使用 Adam 並加上適當的 dropout rate 檢視結果"
   ]
  },
  {
   "cell_type": "code",
   "execution_count": 1,
   "metadata": {},
   "outputs": [
    {
     "name": "stderr",
     "output_type": "stream",
     "text": [
      "Using TensorFlow backend.\n"
     ]
    }
   ],
   "source": [
    "import os\n",
    "import keras\n",
    "import itertools\n",
    "# Disable GPU\n",
    "os.environ[\"CUDA_VISIBLE_DEVICES\"] = \"0\""
   ]
  },
  {
   "cell_type": "code",
   "execution_count": 2,
   "metadata": {},
   "outputs": [],
   "source": [
    "train, test = keras.datasets.cifar10.load_data()"
   ]
  },
  {
   "cell_type": "code",
   "execution_count": 3,
   "metadata": {},
   "outputs": [],
   "source": [
    "## 資料前處理\n",
    "def preproc_x(x, flatten=True):\n",
    "    x = x / 255.\n",
    "    if flatten:\n",
    "        x = x.reshape((len(x), -1))\n",
    "    return x\n",
    "\n",
    "def preproc_y(y, num_classes=10):\n",
    "    if y.shape[-1] == 1:\n",
    "        y = keras.utils.to_categorical(y, num_classes)\n",
    "    return y    "
   ]
  },
  {
   "cell_type": "code",
   "execution_count": 4,
   "metadata": {},
   "outputs": [],
   "source": [
    "x_train, y_train = train\n",
    "x_test, y_test = test\n",
    "\n",
    "# Preproc the inputs\n",
    "x_train = preproc_x(x_train)\n",
    "x_test = preproc_x(x_test)\n",
    "\n",
    "# Preprc the outputs\n",
    "y_train = preproc_y(y_train)\n",
    "y_test = preproc_y(y_test)"
   ]
  },
  {
   "cell_type": "code",
   "execution_count": 5,
   "metadata": {},
   "outputs": [],
   "source": [
    "\n",
    "# def build_mlp():\n",
    "#     \"\"\"Code Here\n",
    "#     建立你的神經網路\n",
    "#     \"\"\"\n",
    "#     return model\n",
    "\n",
    "from keras.layers import Dropout\n",
    "\n",
    "def build_mlp(input_shape, output_units=10, num_neurons=[512, 256, 128], drp_ratio=0.2):\n",
    "    input_layer = keras.layers.Input(input_shape)\n",
    "    \n",
    "    for i, n_units in enumerate(num_neurons):\n",
    "        if i == 0:\n",
    "            x = keras.layers.Dense(units=n_units, \n",
    "                                   activation=\"relu\", \n",
    "                                   name=\"hidden_layer\"+str(i+1))(input_layer)\n",
    "            x = Dropout(drp_ratio)(x)\n",
    "        else:\n",
    "            x = keras.layers.Dense(units=n_units, \n",
    "                                   activation=\"relu\", \n",
    "                                   name=\"hidden_layer\"+str(i+1))(x)\n",
    "            x = Dropout(drp_ratio)(x)\n",
    "    \n",
    "    out = keras.layers.Dense(units=output_units, activation=\"softmax\", name=\"output\")(x)\n",
    "    \n",
    "    model = keras.models.Model(inputs=[input_layer], outputs=[out])\n",
    "    return model"
   ]
  },
  {
   "cell_type": "code",
   "execution_count": 6,
   "metadata": {},
   "outputs": [],
   "source": [
    "\"\"\"Code Here\n",
    "設定超參數\n",
    "\"\"\"\n",
    "LEARNING_RATE = 1e-3\n",
    "EPOCHS = 50\n",
    "BATCH_SIZE = 256\n",
    "MOMENTUM = 0.95\n",
    "Dropout_EXP = [0.1, 0.25, 0,5]"
   ]
  },
  {
   "cell_type": "code",
   "execution_count": 11,
   "metadata": {
    "scrolled": true
   },
   "outputs": [
    {
     "name": "stdout",
     "output_type": "stream",
     "text": [
      "Experiment with Dropout = 0.100000\n",
      "Model: \"model_1\"\n",
      "_________________________________________________________________\n",
      "Layer (type)                 Output Shape              Param #   \n",
      "=================================================================\n",
      "input_1 (InputLayer)         (None, 3072)              0         \n",
      "_________________________________________________________________\n",
      "hidden_layer1 (Dense)        (None, 512)               1573376   \n",
      "_________________________________________________________________\n",
      "dropout_1 (Dropout)          (None, 512)               0         \n",
      "_________________________________________________________________\n",
      "hidden_layer2 (Dense)        (None, 256)               131328    \n",
      "_________________________________________________________________\n",
      "dropout_2 (Dropout)          (None, 256)               0         \n",
      "_________________________________________________________________\n",
      "hidden_layer3 (Dense)        (None, 128)               32896     \n",
      "_________________________________________________________________\n",
      "dropout_3 (Dropout)          (None, 128)               0         \n",
      "_________________________________________________________________\n",
      "output (Dense)               (None, 10)                1290      \n",
      "=================================================================\n",
      "Total params: 1,738,890\n",
      "Trainable params: 1,738,890\n",
      "Non-trainable params: 0\n",
      "_________________________________________________________________\n",
      "Train on 50000 samples, validate on 10000 samples\n",
      "Epoch 1/50\n",
      "50000/50000 [==============================] - 31s 619us/step - loss: 2.1159 - accuracy: 0.2328 - val_loss: 1.9126 - val_accuracy: 0.3295\n",
      "Epoch 2/50\n",
      "50000/50000 [==============================] - 17s 330us/step - loss: 1.8957 - accuracy: 0.3222 - val_loss: 1.7977 - val_accuracy: 0.3675\n",
      "Epoch 3/50\n",
      "50000/50000 [==============================] - 16s 312us/step - loss: 1.8088 - accuracy: 0.3549 - val_loss: 1.7292 - val_accuracy: 0.3927\n",
      "Epoch 4/50\n",
      "50000/50000 [==============================] - 17s 344us/step - loss: 1.7522 - accuracy: 0.3774 - val_loss: 1.6850 - val_accuracy: 0.4082\n",
      "Epoch 5/50\n",
      "50000/50000 [==============================] - 16s 313us/step - loss: 1.7097 - accuracy: 0.3933 - val_loss: 1.6421 - val_accuracy: 0.4183\n",
      "Epoch 6/50\n",
      "50000/50000 [==============================] - 16s 312us/step - loss: 1.6743 - accuracy: 0.4059 - val_loss: 1.6117 - val_accuracy: 0.4318\n",
      "Epoch 7/50\n",
      "50000/50000 [==============================] - 16s 312us/step - loss: 1.6406 - accuracy: 0.4179 - val_loss: 1.5780 - val_accuracy: 0.4448\n",
      "Epoch 8/50\n",
      "50000/50000 [==============================] - 16s 315us/step - loss: 1.6130 - accuracy: 0.4259 - val_loss: 1.5550 - val_accuracy: 0.4517\n",
      "Epoch 9/50\n",
      "50000/50000 [==============================] - 16s 313us/step - loss: 1.5869 - accuracy: 0.4376 - val_loss: 1.5341 - val_accuracy: 0.4526\n",
      "Epoch 10/50\n",
      "50000/50000 [==============================] - 16s 314us/step - loss: 1.5640 - accuracy: 0.4443 - val_loss: 1.5183 - val_accuracy: 0.4600\n",
      "Epoch 11/50\n",
      "50000/50000 [==============================] - 16s 312us/step - loss: 1.5431 - accuracy: 0.4540 - val_loss: 1.4988 - val_accuracy: 0.4649\n",
      "Epoch 12/50\n",
      "50000/50000 [==============================] - 16s 316us/step - loss: 1.5219 - accuracy: 0.4602 - val_loss: 1.4859 - val_accuracy: 0.4696\n",
      "Epoch 13/50\n",
      "50000/50000 [==============================] - 16s 310us/step - loss: 1.5055 - accuracy: 0.4656 - val_loss: 1.4709 - val_accuracy: 0.4775\n",
      "Epoch 14/50\n",
      "50000/50000 [==============================] - 16s 314us/step - loss: 1.4861 - accuracy: 0.4719 - val_loss: 1.4592 - val_accuracy: 0.4812\n",
      "Epoch 15/50\n",
      "50000/50000 [==============================] - 16s 313us/step - loss: 1.4711 - accuracy: 0.4776 - val_loss: 1.4454 - val_accuracy: 0.4869\n",
      "Epoch 16/50\n",
      "50000/50000 [==============================] - 16s 315us/step - loss: 1.4550 - accuracy: 0.4833 - val_loss: 1.4489 - val_accuracy: 0.4802\n",
      "Epoch 17/50\n",
      "50000/50000 [==============================] - 16s 310us/step - loss: 1.4409 - accuracy: 0.4886 - val_loss: 1.4210 - val_accuracy: 0.4995\n",
      "Epoch 18/50\n",
      "50000/50000 [==============================] - 16s 313us/step - loss: 1.4258 - accuracy: 0.4921 - val_loss: 1.4140 - val_accuracy: 0.4945\n",
      "Epoch 19/50\n",
      "50000/50000 [==============================] - 16s 312us/step - loss: 1.4150 - accuracy: 0.4961 - val_loss: 1.4153 - val_accuracy: 0.4938\n",
      "Epoch 20/50\n",
      "50000/50000 [==============================] - 18s 362us/step - loss: 1.3986 - accuracy: 0.5029 - val_loss: 1.3968 - val_accuracy: 0.5022\n",
      "Epoch 21/50\n",
      "50000/50000 [==============================] - 17s 350us/step - loss: 1.3855 - accuracy: 0.5089 - val_loss: 1.3937 - val_accuracy: 0.5032\n",
      "Epoch 22/50\n",
      "50000/50000 [==============================] - 17s 342us/step - loss: 1.3713 - accuracy: 0.5151 - val_loss: 1.3831 - val_accuracy: 0.5051\n",
      "Epoch 23/50\n",
      "50000/50000 [==============================] - 17s 350us/step - loss: 1.3585 - accuracy: 0.5182 - val_loss: 1.3734 - val_accuracy: 0.5127\n",
      "Epoch 24/50\n",
      "50000/50000 [==============================] - 18s 352us/step - loss: 1.3495 - accuracy: 0.5234 - val_loss: 1.3721 - val_accuracy: 0.5068\n",
      "Epoch 25/50\n",
      "50000/50000 [==============================] - 17s 347us/step - loss: 1.3359 - accuracy: 0.5245 - val_loss: 1.3749 - val_accuracy: 0.5069\n",
      "Epoch 26/50\n",
      "50000/50000 [==============================] - 17s 350us/step - loss: 1.3273 - accuracy: 0.5294 - val_loss: 1.3648 - val_accuracy: 0.5120\n",
      "Epoch 27/50\n",
      "50000/50000 [==============================] - 17s 349us/step - loss: 1.3170 - accuracy: 0.5326 - val_loss: 1.3493 - val_accuracy: 0.5189\n",
      "Epoch 28/50\n",
      "50000/50000 [==============================] - 19s 377us/step - loss: 1.3005 - accuracy: 0.5390 - val_loss: 1.3419 - val_accuracy: 0.5198\n",
      "Epoch 29/50\n",
      "50000/50000 [==============================] - 18s 353us/step - loss: 1.2933 - accuracy: 0.5419 - val_loss: 1.3391 - val_accuracy: 0.5208\n",
      "Epoch 30/50\n",
      "50000/50000 [==============================] - 18s 355us/step - loss: 1.2762 - accuracy: 0.5479 - val_loss: 1.3389 - val_accuracy: 0.5194\n",
      "Epoch 31/50\n",
      "50000/50000 [==============================] - 18s 351us/step - loss: 1.2739 - accuracy: 0.5487 - val_loss: 1.3315 - val_accuracy: 0.5236\n",
      "Epoch 32/50\n",
      "50000/50000 [==============================] - 18s 354us/step - loss: 1.2567 - accuracy: 0.5530 - val_loss: 1.3205 - val_accuracy: 0.5320\n",
      "Epoch 33/50\n",
      "50000/50000 [==============================] - 13s 255us/step - loss: 1.2478 - accuracy: 0.5589 - val_loss: 1.3202 - val_accuracy: 0.5286\n",
      "Epoch 34/50\n",
      "50000/50000 [==============================] - 15s 293us/step - loss: 1.2418 - accuracy: 0.5587 - val_loss: 1.3126 - val_accuracy: 0.5320\n",
      "Epoch 35/50\n",
      "50000/50000 [==============================] - 18s 354us/step - loss: 1.2322 - accuracy: 0.5636 - val_loss: 1.3117 - val_accuracy: 0.5327\n",
      "Epoch 36/50\n",
      "50000/50000 [==============================] - 18s 357us/step - loss: 1.2200 - accuracy: 0.5665 - val_loss: 1.3023 - val_accuracy: 0.5372\n",
      "Epoch 37/50\n",
      "50000/50000 [==============================] - 18s 353us/step - loss: 1.2145 - accuracy: 0.5673 - val_loss: 1.3068 - val_accuracy: 0.5373\n",
      "Epoch 38/50\n",
      "50000/50000 [==============================] - 18s 354us/step - loss: 1.2011 - accuracy: 0.5725 - val_loss: 1.3087 - val_accuracy: 0.5361\n",
      "Epoch 39/50\n",
      "50000/50000 [==============================] - 18s 359us/step - loss: 1.1924 - accuracy: 0.5755 - val_loss: 1.3110 - val_accuracy: 0.5340\n",
      "Epoch 40/50\n",
      "50000/50000 [==============================] - 18s 352us/step - loss: 1.1865 - accuracy: 0.5760 - val_loss: 1.3016 - val_accuracy: 0.5363\n",
      "Epoch 41/50\n",
      "50000/50000 [==============================] - 18s 351us/step - loss: 1.1737 - accuracy: 0.5832 - val_loss: 1.2906 - val_accuracy: 0.5486\n",
      "Epoch 42/50\n",
      "50000/50000 [==============================] - 18s 352us/step - loss: 1.1673 - accuracy: 0.5832 - val_loss: 1.2894 - val_accuracy: 0.5435\n",
      "Epoch 43/50\n",
      "50000/50000 [==============================] - 18s 355us/step - loss: 1.1575 - accuracy: 0.5885 - val_loss: 1.2996 - val_accuracy: 0.5412\n",
      "Epoch 44/50\n",
      "50000/50000 [==============================] - 18s 354us/step - loss: 1.1528 - accuracy: 0.5877 - val_loss: 1.2928 - val_accuracy: 0.5444\n",
      "Epoch 45/50\n"
     ]
    },
    {
     "name": "stdout",
     "output_type": "stream",
     "text": [
      "50000/50000 [==============================] - 17s 349us/step - loss: 1.1396 - accuracy: 0.5945 - val_loss: 1.3038 - val_accuracy: 0.5397\n",
      "Epoch 46/50\n",
      "50000/50000 [==============================] - 17s 339us/step - loss: 1.1343 - accuracy: 0.5927 - val_loss: 1.3051 - val_accuracy: 0.5428\n",
      "Epoch 47/50\n",
      "50000/50000 [==============================] - 17s 342us/step - loss: 1.1269 - accuracy: 0.5990 - val_loss: 1.2820 - val_accuracy: 0.5478\n",
      "Epoch 48/50\n",
      "50000/50000 [==============================] - 17s 344us/step - loss: 1.1134 - accuracy: 0.6027 - val_loss: 1.2766 - val_accuracy: 0.5532\n",
      "Epoch 49/50\n",
      "50000/50000 [==============================] - 17s 349us/step - loss: 1.1100 - accuracy: 0.6063 - val_loss: 1.2850 - val_accuracy: 0.5482\n",
      "Epoch 50/50\n",
      "50000/50000 [==============================] - 20s 398us/step - loss: 1.0982 - accuracy: 0.6090 - val_loss: 1.2910 - val_accuracy: 0.5432\n"
     ]
    },
    {
     "ename": "AttributeError",
     "evalue": "'function' object has no attribute 'history'",
     "output_type": "error",
     "traceback": [
      "\u001b[1;31m---------------------------------------------------------------------------\u001b[0m",
      "\u001b[1;31mAttributeError\u001b[0m                            Traceback (most recent call last)",
      "\u001b[1;32m<ipython-input-11-2830ef401270>\u001b[0m in \u001b[0;36m<module>\u001b[1;34m\u001b[0m\n\u001b[0;32m     19\u001b[0m \u001b[1;33m\u001b[0m\u001b[0m\n\u001b[0;32m     20\u001b[0m     \u001b[1;31m# Collect results\u001b[0m\u001b[1;33m\u001b[0m\u001b[1;33m\u001b[0m\u001b[1;33m\u001b[0m\u001b[0m\n\u001b[1;32m---> 21\u001b[1;33m     \u001b[0mtrain_loss\u001b[0m \u001b[1;33m=\u001b[0m \u001b[0mmodel\u001b[0m\u001b[1;33m.\u001b[0m\u001b[0mfit\u001b[0m\u001b[1;33m.\u001b[0m\u001b[0mhistory\u001b[0m\u001b[1;33m[\u001b[0m\u001b[1;34m\"loss\"\u001b[0m\u001b[1;33m]\u001b[0m\u001b[1;33m\u001b[0m\u001b[1;33m\u001b[0m\u001b[0m\n\u001b[0m\u001b[0;32m     22\u001b[0m     \u001b[0mvalid_loss\u001b[0m \u001b[1;33m=\u001b[0m \u001b[0mmodel\u001b[0m\u001b[1;33m.\u001b[0m\u001b[0mfit\u001b[0m\u001b[1;33m.\u001b[0m\u001b[0mhistory\u001b[0m\u001b[1;33m[\u001b[0m\u001b[1;34m\"val_loss\"\u001b[0m\u001b[1;33m]\u001b[0m\u001b[1;33m\u001b[0m\u001b[1;33m\u001b[0m\u001b[0m\n\u001b[0;32m     23\u001b[0m     \u001b[0mtrain_acc\u001b[0m \u001b[1;33m=\u001b[0m \u001b[0mmodel\u001b[0m\u001b[1;33m.\u001b[0m\u001b[0mfit\u001b[0m\u001b[1;33m.\u001b[0m\u001b[0mhistory\u001b[0m\u001b[1;33m[\u001b[0m\u001b[1;34m\"acc\"\u001b[0m\u001b[1;33m]\u001b[0m\u001b[1;33m\u001b[0m\u001b[1;33m\u001b[0m\u001b[0m\n",
      "\u001b[1;31mAttributeError\u001b[0m: 'function' object has no attribute 'history'"
     ]
    }
   ],
   "source": [
    "results = {}\n",
    "\"\"\"Code Here\n",
    "撰寫你的訓練流程並將結果用 dictionary 紀錄\n",
    "\"\"\"\n",
    "for lr in Dropout_EXP:\n",
    "    keras.backend.clear_session() # 把舊的 Graph 清掉\n",
    "    print(\"Experiment with Dropout = %.6f\" % (lr))\n",
    "\n",
    "    model = build_mlp(input_shape=x_train.shape[1:], drp_ratio=lr)\n",
    "    model.summary()\n",
    "    optimizer = keras.optimizers.SGD(lr=LEARNING_RATE, nesterov=True, momentum=MOMENTUM)\n",
    "    model.compile(loss=\"categorical_crossentropy\", metrics=[\"accuracy\"], optimizer=optimizer)\n",
    "\n",
    "    model.fit(x_train, y_train, \n",
    "              epochs=EPOCHS, \n",
    "              batch_size=BATCH_SIZE, \n",
    "              validation_data=(x_test, y_test), \n",
    "              shuffle=True)\n",
    "    \n",
    "    # Collect results\n",
    "    train_loss = model.fit.history[\"loss\"]\n",
    "    valid_loss = model.fit.history[\"val_loss\"]\n",
    "    train_acc = model.fit.history[\"acc\"]\n",
    "    valid_acc = model.fit.history[\"val_acc\"]\n",
    "    \n",
    "    exp_name_tag = \"exp-lr-%s\" % str(lr)\n",
    "    results[exp_name_tag] = {'train-loss': train_loss,\n",
    "                             'valid-loss': valid_loss,\n",
    "                             'train-acc': train_acc,\n",
    "                             'valid-acc': valid_acc}"
   ]
  },
  {
   "cell_type": "code",
   "execution_count": 12,
   "metadata": {},
   "outputs": [
    {
     "name": "stderr",
     "output_type": "stream",
     "text": [
      "No handles with labels found to put in legend.\n"
     ]
    },
    {
     "data": {
      "image/png": "[encoded data removed]",
      "text/plain": [
       "<Figure size 576x432 with 1 Axes>"
      ]
     },
     "metadata": {
      "needs_background": "light"
     },
     "output_type": "display_data"
    },
    {
     "name": "stderr",
     "output_type": "stream",
     "text": [
      "No handles with labels found to put in legend.\n"
     ]
    },
    {
     "data": {
      "image/png": "[encoded data removed]",
      "text/plain": [
       "<Figure size 576x432 with 1 Axes>"
      ]
     },
     "metadata": {
      "needs_background": "light"
     },
     "output_type": "display_data"
    }
   ],
   "source": [
    "import matplotlib.pyplot as plt\n",
    "%matplotlib inline\n",
    "\"\"\"Code Here\n",
    "將結果繪出\n",
    "\"\"\"\n",
    "\n",
    "import matplotlib.pyplot as plt\n",
    "%matplotlib inline\n",
    "\"\"\"Code Here\n",
    "將結果繪出\n",
    "\"\"\"\n",
    "color_bar = [\"r\", \"g\", \"b\", \"y\", \"m\", \"k\"]\n",
    "\n",
    "plt.figure(figsize=(8,6))\n",
    "for i, cond in enumerate(results.keys()):\n",
    "    plt.plot(range(len(results[cond]['train-loss'])),results[cond]['train-loss'], '-', label=cond, color=color_bar[i])\n",
    "    plt.plot(range(len(results[cond]['valid-loss'])),results[cond]['valid-loss'], '--', label=cond, color=color_bar[i])\n",
    "plt.title(\"Loss\")\n",
    "plt.legend()\n",
    "plt.show()\n",
    "\n",
    "plt.figure(figsize=(8,6))\n",
    "for i, cond in enumerate(results.keys()):\n",
    "    plt.plot(range(len(results[cond]['train-acc'])),results[cond]['train-acc'], '-', label=cond, color=color_bar[i])\n",
    "    plt.plot(range(len(results[cond]['valid-acc'])),results[cond]['valid-acc'], '--', label=cond, color=color_bar[i])\n",
    "plt.title(\"Accuracy\")\n",
    "plt.legend()\n",
    "plt.show()"
   ]
  },
  {
   "cell_type": "code",
   "execution_count": null,
   "metadata": {},
   "outputs": [],
   "source": []
  }
 ],
 "metadata": {
  "kernelspec": {
   "display_name": "Python 3",
   "language": "python",
   "name": "python3"
  },
  "language_info": {
   "codemirror_mode": {
    "name": "ipython",
    "version": 3
   },
   "file_extension": ".py",
   "mimetype": "text/x-python",
   "name": "python",
   "nbconvert_exporter": "python",
   "pygments_lexer": "ipython3",
   "version": "3.6.10"
  }
 },
 "nbformat": 4,
 "nbformat_minor": 2
}
