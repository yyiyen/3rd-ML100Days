{
 "cells": [
  {
   "cell_type": "markdown",
   "metadata": {},
   "source": [
    "## Work\n",
    "1. 請將 Epoch 加到 500 個，並觀察 learning curve 的走勢\n",
    "2. 請將 Optimizer 換成 SGD，並觀察 learning curve 的走勢"
   ]
  },
  {
   "cell_type": "code",
   "execution_count": 1,
   "metadata": {},
   "outputs": [
    {
     "name": "stderr",
     "output_type": "stream",
     "text": [
      "Using TensorFlow backend.\n"
     ]
    }
   ],
   "source": [
    "import os\n",
    "import keras\n",
    "\n",
    "# 本作業可以不需使用 GPU, 將 GPU 設定為 \"無\" (若有 GPU 且想開啟，可設為 \"0\")\n",
    "os.environ[\"CUDA_VISIBLE_DEVICES\"] = \"\""
   ]
  },
  {
   "cell_type": "code",
   "execution_count": 2,
   "metadata": {},
   "outputs": [],
   "source": [
    "# 從 Keras 的內建功能中，取得 train 與 test 資料集\n",
    "train, test = keras.datasets.cifar10.load_data()"
   ]
  },
  {
   "cell_type": "code",
   "execution_count": 3,
   "metadata": {},
   "outputs": [],
   "source": [
    "# 將 X 與 Y 獨立放進變數\n",
    "x_train, y_train = train\n",
    "x_test, y_test = test\n",
    "# 資料前處理 - 標準化\n",
    "x_train = x_train / 255.\n",
    "x_test = x_test / 255.\n",
    "\n",
    "# 將資料從圖形 (RGB) 轉為向量 (Single Vector)\n",
    "x_train = x_train.reshape((len(x_train), -1))\n",
    "x_test = x_test.reshape((len(x_test), -1))\n",
    "\n",
    "# 將目標轉為 one-hot encoding\n",
    "y_train = keras.utils.to_categorical(y_train, num_classes=10)\n",
    "y_test = keras.utils.to_categorical(y_test, num_classes=10)"
   ]
  },
  {
   "cell_type": "code",
   "execution_count": 11,
   "metadata": {},
   "outputs": [],
   "source": [
    "def build_mlp():\n",
    "    \"\"\"Code Here\n",
    "    建立你的神經網路\n",
    "    \"\"\"\n",
    "    input_layer = keras.layers.Input([x_train.shape[-1]])\n",
    "    x = keras.layers.Dense(units=512, activation=\"relu\")(input_layer)\n",
    "    x = keras.layers.Dense(units=256, activation=\"relu\")(x)\n",
    "    x = keras.layers.Dense(units=128, activation=\"relu\")(x)\n",
    "    out = keras.layers.Dense(units=10, activation=\"softmax\")(x)\n",
    "    \n",
    "    model = keras.models.Model(inputs=[input_layer], outputs=[out])\n",
    "    return model"
   ]
  },
  {
   "cell_type": "code",
   "execution_count": 18,
   "metadata": {},
   "outputs": [
    {
     "name": "stdout",
     "output_type": "stream",
     "text": [
      "Model: \"model_2\"\n",
      "_________________________________________________________________\n",
      "Layer (type)                 Output Shape              Param #   \n",
      "=================================================================\n",
      "input_6 (InputLayer)         (None, 3072)              0         \n",
      "_________________________________________________________________\n",
      "dense_21 (Dense)             (None, 512)               1573376   \n",
      "_________________________________________________________________\n",
      "dense_22 (Dense)             (None, 256)               131328    \n",
      "_________________________________________________________________\n",
      "dense_23 (Dense)             (None, 128)               32896     \n",
      "_________________________________________________________________\n",
      "dense_24 (Dense)             (None, 10)                1290      \n",
      "=================================================================\n",
      "Total params: 1,738,890\n",
      "Trainable params: 1,738,890\n",
      "Non-trainable params: 0\n",
      "_________________________________________________________________\n"
     ]
    }
   ],
   "source": [
    "\"\"\"\n",
    "Compile 模型\n",
    "\"\"\"\n",
    "model = build_mlp()\n",
    "model.summary()\n",
    "\n",
    "optimizer = keras.optimizers.SGD(lr=0.001)\n",
    "model.compile(loss=\"categorical_crossentropy\", metrics=[\"acc\"], optimizer=optimizer)"
   ]
  },
  {
   "cell_type": "code",
   "execution_count": 22,
   "metadata": {
    "scrolled": true
   },
   "outputs": [
    {
     "name": "stdout",
     "output_type": "stream",
     "text": [
      "Train on 50000 samples, validate on 10000 samples\n",
      "Epoch 1/20\n",
      "50000/50000 [==============================] - 58s 1ms/step - loss: 1.7281 - acc: 0.3985 - val_loss: 1.7291 - val_acc: 0.4016\n",
      "Epoch 2/20\n",
      "50000/50000 [==============================] - 12s 248us/step - loss: 1.7237 - acc: 0.3983 - val_loss: 1.7255 - val_acc: 0.3967\n",
      "Epoch 3/20\n",
      "50000/50000 [==============================] - 12s 239us/step - loss: 1.7196 - acc: 0.3996 - val_loss: 1.7196 - val_acc: 0.3994\n",
      "Epoch 4/20\n",
      "50000/50000 [==============================] - 12s 234us/step - loss: 1.7157 - acc: 0.4025 - val_loss: 1.7164 - val_acc: 0.4027\n",
      "Epoch 5/20\n",
      "50000/50000 [==============================] - 11s 223us/step - loss: 1.7116 - acc: 0.4045 - val_loss: 1.7140 - val_acc: 0.4041\n",
      "Epoch 6/20\n",
      "50000/50000 [==============================] - 12s 233us/step - loss: 1.7075 - acc: 0.4043 - val_loss: 1.7083 - val_acc: 0.4042\n",
      "Epoch 7/20\n",
      "50000/50000 [==============================] - 11s 212us/step - loss: 1.7037 - acc: 0.4057 - val_loss: 1.7055 - val_acc: 0.4031\n",
      "Epoch 8/20\n",
      "50000/50000 [==============================] - 10s 197us/step - loss: 1.7000 - acc: 0.4080 - val_loss: 1.7014 - val_acc: 0.4041\n",
      "Epoch 9/20\n",
      "50000/50000 [==============================] - 11s 228us/step - loss: 1.6963 - acc: 0.4091 - val_loss: 1.6985 - val_acc: 0.4100\n",
      "Epoch 10/20\n",
      "50000/50000 [==============================] - 11s 226us/step - loss: 1.6927 - acc: 0.4106 - val_loss: 1.6951 - val_acc: 0.4070\n",
      "Epoch 11/20\n",
      "50000/50000 [==============================] - 11s 225us/step - loss: 1.6889 - acc: 0.4112 - val_loss: 1.6899 - val_acc: 0.4103\n",
      "Epoch 12/20\n",
      "50000/50000 [==============================] - 12s 231us/step - loss: 1.6854 - acc: 0.4129 - val_loss: 1.6860 - val_acc: 0.4112\n",
      "Epoch 13/20\n",
      "50000/50000 [==============================] - 12s 231us/step - loss: 1.6819 - acc: 0.4146 - val_loss: 1.6845 - val_acc: 0.4110\n",
      "Epoch 14/20\n",
      "50000/50000 [==============================] - 11s 227us/step - loss: 1.6786 - acc: 0.4144 - val_loss: 1.6801 - val_acc: 0.4112\n",
      "Epoch 15/20\n",
      "50000/50000 [==============================] - 11s 221us/step - loss: 1.6753 - acc: 0.4162 - val_loss: 1.6763 - val_acc: 0.4138\n",
      "Epoch 16/20\n",
      "50000/50000 [==============================] - 11s 226us/step - loss: 1.6718 - acc: 0.4165 - val_loss: 1.6738 - val_acc: 0.4146\n",
      "Epoch 17/20\n",
      "50000/50000 [==============================] - 11s 225us/step - loss: 1.6683 - acc: 0.4180 - val_loss: 1.6700 - val_acc: 0.4150\n",
      "Epoch 18/20\n",
      "50000/50000 [==============================] - 11s 230us/step - loss: 1.6652 - acc: 0.4190 - val_loss: 1.6687 - val_acc: 0.4157\n",
      "Epoch 19/20\n",
      "50000/50000 [==============================] - 11s 228us/step - loss: 1.6618 - acc: 0.4219 - val_loss: 1.6677 - val_acc: 0.4159\n",
      "Epoch 20/20\n",
      "50000/50000 [==============================] - 12s 232us/step - loss: 1.6587 - acc: 0.4224 - val_loss: 1.6608 - val_acc: 0.4208\n"
     ]
    },
    {
     "data": {
      "text/plain": [
       "<keras.callbacks.callbacks.History at 0x1a12b6b0be0>"
      ]
     },
     "execution_count": 22,
     "metadata": {},
     "output_type": "execute_result"
    }
   ],
   "source": [
    "\"\"\"\n",
    "設定要訓練的 Epoch 數\n",
    "\"\"\"\n",
    "model.fit(x_train, y_train, \n",
    "          epochs=20, \n",
    "          batch_size=256, \n",
    "          validation_data=(x_test, y_test), \n",
    "          shuffle=True)"
   ]
  },
  {
   "cell_type": "code",
   "execution_count": 23,
   "metadata": {},
   "outputs": [
    {
     "data": {
      "image/png": "[encoded data removed]",
      "text/plain": [
       "<Figure size 432x288 with 1 Axes>"
      ]
     },
     "metadata": {
      "needs_background": "light"
     },
     "output_type": "display_data"
    },
    {
     "data": {
      "image/png": "[encoded data removed]",
      "text/plain": [
       "<Figure size 432x288 with 1 Axes>"
      ]
     },
     "metadata": {
      "needs_background": "light"
     },
     "output_type": "display_data"
    }
   ],
   "source": [
    "import matplotlib.pyplot as plt\n",
    "# 以視覺畫方式檢視訓練過程\n",
    "\n",
    "train_loss = model.history.history[\"loss\"]\n",
    "valid_loss = model.history.history[\"val_loss\"]\n",
    "\n",
    "train_acc = model.history.history[\"acc\"]\n",
    "valid_acc = model.history.history[\"val_acc\"]\n",
    "\n",
    "plt.plot(range(len(train_loss)), train_loss, label=\"train loss\")\n",
    "plt.plot(range(len(valid_loss)), valid_loss, label=\"valid loss\")\n",
    "plt.legend()\n",
    "plt.title(\"Loss\")\n",
    "plt.show()\n",
    "\n",
    "plt.plot(range(len(train_acc)), train_acc, label=\"train accuracy\")\n",
    "plt.plot(range(len(valid_acc)), valid_acc, label=\"valid accuracy\")\n",
    "plt.legend()\n",
    "plt.title(\"Accuracy\")\n",
    "plt.show()"
   ]
  },
  {
   "cell_type": "code",
   "execution_count": null,
   "metadata": {},
   "outputs": [],
   "source": []
  }
 ],
 "metadata": {
  "kernelspec": {
   "display_name": "Python 3",
   "language": "python",
   "name": "python3"
  },
  "language_info": {
   "codemirror_mode": {
    "name": "ipython",
    "version": 3
   },
   "file_extension": ".py",
   "mimetype": "text/x-python",
   "name": "python",
   "nbconvert_exporter": "python",
   "pygments_lexer": "ipython3",
   "version": "3.6.10"
  }
 },
 "nbformat": 4,
 "nbformat_minor": 2
}
