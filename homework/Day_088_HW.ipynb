{
 "cells": [
  {
   "cell_type": "markdown",
   "metadata": {},
   "source": [
    "## Work\n",
    "1. 請嘗試寫一個 callback 用來記錄各類別在訓練過程中，對驗證集的 True Positive 與 True Negative"
   ]
  },
  {
   "cell_type": "code",
   "execution_count": 9,
   "metadata": {},
   "outputs": [],
   "source": [
    "import os\n",
    "import keras\n",
    "import numpy as np\n",
    "\n",
    "# Disable GPU\n",
    "os.environ[\"CUDA_VISIBLE_DEVICES\"] = \"0\""
   ]
  },
  {
   "cell_type": "code",
   "execution_count": 10,
   "metadata": {},
   "outputs": [],
   "source": [
    "train, test = keras.datasets.cifar10.load_data()"
   ]
  },
  {
   "cell_type": "code",
   "execution_count": 11,
   "metadata": {},
   "outputs": [],
   "source": [
    "## 資料前處理\n",
    "def preproc_x(x, flatten=True):\n",
    "    x = x / 255.\n",
    "    if flatten:\n",
    "        x = x.reshape((len(x), -1))\n",
    "    return x\n",
    "\n",
    "def preproc_y(y, num_classes=10):\n",
    "    if y.shape[-1] == 1:\n",
    "        y = keras.utils.to_categorical(y, num_classes)\n",
    "    return y    "
   ]
  },
  {
   "cell_type": "code",
   "execution_count": 12,
   "metadata": {},
   "outputs": [],
   "source": [
    "x_train, y_train = train\n",
    "x_test, y_test = test\n",
    "\n",
    "# Preproc the inputs\n",
    "x_train = preproc_x(x_train)\n",
    "x_test = preproc_x(x_test)\n",
    "\n",
    "# Preprc the outputs\n",
    "y_train = preproc_y(y_train)\n",
    "y_test = preproc_y(y_test)"
   ]
  },
  {
   "cell_type": "code",
   "execution_count": 13,
   "metadata": {},
   "outputs": [],
   "source": [
    "from keras.layers import BatchNormalization\n",
    "def build_mlp(input_shape, output_units=10, num_neurons=[256, 256, 256]):\n",
    "    \"\"\"Code Here\n",
    "    建立你的神經網路\n",
    "    \"\"\"\n",
    "    input_layer = keras.layers.Input(input_shape)\n",
    "    \n",
    "    \n",
    "    for i, n_units in enumerate(num_neurons):\n",
    "        if i == 0:\n",
    "            x = keras.layers.Dense(units=n_units, \n",
    "                                   activation=\"relu\", \n",
    "                                   name=\"hidden_layer\"+str(i+1))(input_layer)\n",
    "            x = BatchNormalization()(x)\n",
    "        else:\n",
    "            x = keras.layers.Dense(units=n_units, \n",
    "                                   activation=\"relu\", \n",
    "                                   name=\"hidden_layer\"+str(i+1))(x)\n",
    "            x = BatchNormalization()(x)\n",
    "    \n",
    "    \n",
    "    out = keras.layers.Dense(units=output_units, activation=\"softmax\", name=\"output\")(x)\n",
    "    \n",
    "    model = keras.models.Model(inputs=[input_layer], outputs=[out])\n",
    "    return model"
   ]
  },
  {
   "cell_type": "code",
   "execution_count": 14,
   "metadata": {},
   "outputs": [],
   "source": [
    "## 超參數設定\n",
    "LEARNING_RATE = 1e-3\n",
    "EPOCHS = 25\n",
    "BATCH_SIZE = 1024\n",
    "MOMENTUM = 0.95"
   ]
  },
  {
   "cell_type": "code",
   "execution_count": 15,
   "metadata": {},
   "outputs": [],
   "source": [
    "# 載入 Callbacks\n",
    "from keras.callbacks import Callback\n",
    "\n",
    "# Record_fp_tp\n",
    "class Record_tp_tn(Callback):\n",
    "    \"\"\"Code Here\n",
    "    撰寫一個紀錄 ture positive 與 true negative 數量的 callbacks    \n",
    "    \"\"\"\n",
    "    def on_train_begin(self, epoch, logs = {}):\n",
    "        logs = logs or {}\n",
    "        # 驗證集的 True Positive 與 True Negative\n",
    "        record_items = [\"val_tp\", \"val_tn\", \"val_fp\", \"val_fn\"]\n",
    "        for i in record_items:\n",
    "            if i not in self.params['metrics']:\n",
    "                self.params['metrics'].append(i)\n",
    "    \n",
    "    def on_epoch_end(self, epoch, logs = {}, thres=0.5):\n",
    "        logs = logs or {}\n",
    "        # Define y_true, y_pred\n",
    "        y_true = self.validation_data[1].argmax(axis = 1)\n",
    "        y_pred = self.model.predict(self.validation_data[0])\n",
    "        y_pred = (y_pred[:, 1] >= thres) * 1\n",
    "        # Calculate True Positive, True Negative\n",
    "        logs[\"val_tp\"] = np.sum(np.logical_and(y_pred == 1, y_true == 1))\n",
    "        logs[\"val_tn\"] = np.sum(np.logical_and(y_pred == 0, y_true == 0))\n",
    "        \n",
    "rec_tptn = Record_tp_tn()"
   ]
  },
  {
   "cell_type": "code",
   "execution_count": 17,
   "metadata": {
    "scrolled": true
   },
   "outputs": [
    {
     "name": "stdout",
     "output_type": "stream",
     "text": [
      "Model: \"model_3\"\n",
      "_________________________________________________________________\n",
      "Layer (type)                 Output Shape              Param #   \n",
      "=================================================================\n",
      "input_3 (InputLayer)         (None, 3072)              0         \n",
      "_________________________________________________________________\n",
      "hidden_layer1 (Dense)        (None, 256)               786688    \n",
      "_________________________________________________________________\n",
      "batch_normalization_7 (Batch (None, 256)               1024      \n",
      "_________________________________________________________________\n",
      "hidden_layer2 (Dense)        (None, 256)               65792     \n",
      "_________________________________________________________________\n",
      "batch_normalization_8 (Batch (None, 256)               1024      \n",
      "_________________________________________________________________\n",
      "hidden_layer3 (Dense)        (None, 256)               65792     \n",
      "_________________________________________________________________\n",
      "batch_normalization_9 (Batch (None, 256)               1024      \n",
      "_________________________________________________________________\n",
      "output (Dense)               (None, 10)                2570      \n",
      "=================================================================\n",
      "Total params: 923,914\n",
      "Trainable params: 922,378\n",
      "Non-trainable params: 1,536\n",
      "_________________________________________________________________\n",
      "Train on 50000 samples, validate on 10000 samples\n",
      "Epoch 1/25\n",
      "50000/50000 [==============================] - 5s 106us/step - loss: 2.2163 - accuracy: 0.2694 - val_loss: 2.1794 - val_accuracy: 0.1709\n",
      "Epoch 2/25\n",
      "50000/50000 [==============================] - 5s 91us/step - loss: 1.7635 - accuracy: 0.3855 - val_loss: 2.0212 - val_accuracy: 0.2979\n",
      "Epoch 3/25\n",
      "50000/50000 [==============================] - 5s 96us/step - loss: 1.6355 - accuracy: 0.4267 - val_loss: 1.8578 - val_accuracy: 0.3661\n",
      "Epoch 4/25\n",
      "50000/50000 [==============================] - 5s 92us/step - loss: 1.5611 - accuracy: 0.4516 - val_loss: 1.7337 - val_accuracy: 0.3994\n",
      "Epoch 5/25\n",
      "50000/50000 [==============================] - 4s 89us/step - loss: 1.5097 - accuracy: 0.4703 - val_loss: 1.6449 - val_accuracy: 0.4239\n",
      "Epoch 6/25\n",
      "50000/50000 [==============================] - 5s 94us/step - loss: 1.4636 - accuracy: 0.4876 - val_loss: 1.5946 - val_accuracy: 0.4403\n",
      "Epoch 7/25\n",
      "50000/50000 [==============================] - 4s 90us/step - loss: 1.4264 - accuracy: 0.5007 - val_loss: 1.5562 - val_accuracy: 0.4522\n",
      "Epoch 8/25\n",
      "50000/50000 [==============================] - 5s 93us/step - loss: 1.3939 - accuracy: 0.5126 - val_loss: 1.5315 - val_accuracy: 0.4621\n",
      "Epoch 9/25\n",
      "50000/50000 [==============================] - 5s 101us/step - loss: 1.3639 - accuracy: 0.5234 - val_loss: 1.5256 - val_accuracy: 0.4608\n",
      "Epoch 10/25\n",
      "50000/50000 [==============================] - 4s 88us/step - loss: 1.3362 - accuracy: 0.5339 - val_loss: 1.4994 - val_accuracy: 0.4724\n",
      "Epoch 11/25\n",
      "50000/50000 [==============================] - 4s 84us/step - loss: 1.3104 - accuracy: 0.5447 - val_loss: 1.5038 - val_accuracy: 0.4721\n",
      "Epoch 12/25\n",
      "50000/50000 [==============================] - 4s 86us/step - loss: 1.2874 - accuracy: 0.5509 - val_loss: 1.4857 - val_accuracy: 0.4795\n",
      "Epoch 13/25\n",
      "50000/50000 [==============================] - 4s 87us/step - loss: 1.2652 - accuracy: 0.5596 - val_loss: 1.4842 - val_accuracy: 0.4829\n",
      "Epoch 14/25\n",
      "50000/50000 [==============================] - 4s 86us/step - loss: 1.2427 - accuracy: 0.5685 - val_loss: 1.4943 - val_accuracy: 0.4767\n",
      "Epoch 15/25\n",
      "50000/50000 [==============================] - 4s 89us/step - loss: 1.2221 - accuracy: 0.5765 - val_loss: 1.4731 - val_accuracy: 0.4836\n",
      "Epoch 16/25\n",
      "50000/50000 [==============================] - 5s 104us/step - loss: 1.2013 - accuracy: 0.5837 - val_loss: 1.4691 - val_accuracy: 0.4839\n",
      "Epoch 17/25\n",
      "50000/50000 [==============================] - 4s 85us/step - loss: 1.1831 - accuracy: 0.5900 - val_loss: 1.4707 - val_accuracy: 0.4883\n",
      "Epoch 18/25\n",
      "50000/50000 [==============================] - 4s 87us/step - loss: 1.1628 - accuracy: 0.5983 - val_loss: 1.4808 - val_accuracy: 0.4807\n",
      "Epoch 19/25\n",
      "50000/50000 [==============================] - 5s 94us/step - loss: 1.1447 - accuracy: 0.6055 - val_loss: 1.4763 - val_accuracy: 0.4845\n",
      "Epoch 20/25\n",
      "50000/50000 [==============================] - 6s 118us/step - loss: 1.1262 - accuracy: 0.6132 - val_loss: 1.4588 - val_accuracy: 0.4893\n",
      "Epoch 21/25\n",
      "50000/50000 [==============================] - 4s 87us/step - loss: 1.1082 - accuracy: 0.6194 - val_loss: 1.4564 - val_accuracy: 0.4905\n",
      "Epoch 22/25\n",
      "50000/50000 [==============================] - 5s 94us/step - loss: 1.0916 - accuracy: 0.6260 - val_loss: 1.4567 - val_accuracy: 0.4957\n",
      "Epoch 23/25\n",
      "50000/50000 [==============================] - 4s 86us/step - loss: 1.0734 - accuracy: 0.6322 - val_loss: 1.4510 - val_accuracy: 0.4924\n",
      "Epoch 24/25\n",
      "50000/50000 [==============================] - 5s 96us/step - loss: 1.0557 - accuracy: 0.6402 - val_loss: 1.4513 - val_accuracy: 0.4954\n",
      "Epoch 25/25\n",
      "50000/50000 [==============================] - 5s 107us/step - loss: 1.0406 - accuracy: 0.6440 - val_loss: 1.4563 - val_accuracy: 0.4935\n"
     ]
    }
   ],
   "source": [
    "model = build_mlp(input_shape=x_train.shape[1:])\n",
    "model.summary()\n",
    "optimizer = keras.optimizers.SGD(lr=LEARNING_RATE, nesterov=True, momentum=MOMENTUM)\n",
    "model.compile(loss=\"categorical_crossentropy\", metrics=[\"accuracy\"], optimizer=optimizer)\n",
    "\n",
    "\"\"\"Code Here\n",
    "將 callbacks 放入模型訓練流程中\n",
    "\"\"\"\n",
    "model.fit(x_train, y_train, \n",
    "          epochs=EPOCHS, \n",
    "          batch_size=BATCH_SIZE, \n",
    "          validation_data=(x_test, y_test), \n",
    "          shuffle=True,\n",
    "          callbacks=[rec_tptn])\n",
    "\n",
    "# Collect results\n",
    "train_loss = model.history.history[\"loss\"]\n",
    "valid_loss = model.history.history[\"val_loss\"]\n",
    "train_acc = model.history.history[\"accuracy\"]\n",
    "valid_acc = model.history.history[\"val_accuracy\"]\n",
    "\n",
    "\"\"\"Code Here\n",
    "將 tp/tn 從訓練完的模型中取出\n",
    "\"\"\"\n",
    "valid_tp = model.history.history['val_tp']\n",
    "valid_tn = model.history.history['val_tn']"
   ]
  },
  {
   "cell_type": "code",
   "execution_count": 18,
   "metadata": {},
   "outputs": [
    {
     "data": {
      "image/png": "[encoded data removed]",
      "text/plain": [
       "<Figure size 432x288 with 1 Axes>"
      ]
     },
     "metadata": {
      "needs_background": "light"
     },
     "output_type": "display_data"
    },
    {
     "data": {
      "image/png": "[encoded data removed]",
      "text/plain": [
       "<Figure size 432x288 with 1 Axes>"
      ]
     },
     "metadata": {
      "needs_background": "light"
     },
     "output_type": "display_data"
    },
    {
     "data": {
      "image/png": "[encoded data removed]",
      "text/plain": [
       "<Figure size 432x288 with 1 Axes>"
      ]
     },
     "metadata": {
      "needs_background": "light"
     },
     "output_type": "display_data"
    }
   ],
   "source": [
    "import matplotlib.pyplot as plt\n",
    "%matplotlib inline\n",
    "\n",
    "plt.plot(range(len(train_loss)), train_loss, label=\"train loss\")\n",
    "plt.plot(range(len(valid_loss)), valid_loss, label=\"valid loss\")\n",
    "plt.legend()\n",
    "plt.title(\"Loss\")\n",
    "plt.show()\n",
    "\n",
    "plt.plot(range(len(train_acc)), train_acc, label=\"train accuracy\")\n",
    "plt.plot(range(len(valid_acc)), valid_acc, label=\"valid accuracy\")\n",
    "plt.legend()\n",
    "plt.title(\"Accuracy\")\n",
    "plt.show()\n",
    "\n",
    "plt.plot(range(len(valid_tp)), valid_tp, label=\"valid tp\", color=\"navy\")\n",
    "plt.plot(range(len(valid_tn)), valid_tn, label=\"valid tn\", color=\"red\")\n",
    "plt.legend()\n",
    "plt.title(\"True positives and True Negatives\")\n",
    "plt.show()\n"
   ]
  },
  {
   "cell_type": "code",
   "execution_count": null,
   "metadata": {},
   "outputs": [],
   "source": []
  },
  {
   "cell_type": "code",
   "execution_count": null,
   "metadata": {},
   "outputs": [],
   "source": []
  }
 ],
 "metadata": {
  "kernelspec": {
   "display_name": "Python 3",
   "language": "python",
   "name": "python3"
  },
  "language_info": {
   "codemirror_mode": {
    "name": "ipython",
    "version": 3
   },
   "file_extension": ".py",
   "mimetype": "text/x-python",
   "name": "python",
   "nbconvert_exporter": "python",
   "pygments_lexer": "ipython3",
   "version": "3.6.10"
  }
 },
 "nbformat": 4,
 "nbformat_minor": 2
}
