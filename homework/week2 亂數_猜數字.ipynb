{
 "cells": [
  {
   "cell_type": "code",
   "execution_count": 1,
   "metadata": {},
   "outputs": [
    {
     "name": "stdout",
     "output_type": "stream",
     "text": [
      "Populating the interactive namespace from numpy and matplotlib\n"
     ]
    }
   ],
   "source": [
    " %pylab inline"
   ]
  },
  {
   "cell_type": "code",
   "execution_count": 14,
   "metadata": {},
   "outputs": [
    {
     "data": {
      "text/plain": [
       "3"
      ]
     },
     "execution_count": 14,
     "metadata": {},
     "output_type": "execute_result"
    }
   ],
   "source": [
    "a = randint(10)\n",
    "a\n"
   ]
  },
  {
   "cell_type": "code",
   "execution_count": null,
   "metadata": {},
   "outputs": [],
   "source": [
    "a = randint(50)\n",
    "p = \"\"\n",
    "\n",
    "while ( float(p) != a ):\n",
    "    p = input(\">> \")\n",
    "    if ( float(p) > a ):\n",
    "        print(\"太大了!\")\n",
    "    elif( float(p) < a ):\n",
    "        print(\"太小了!\")\n",
    "    else:\n",
    "        print(\"恭喜答對!\")"
   ]
  },
  {
   "cell_type": "code",
   "execution_count": 15,
   "metadata": {},
   "outputs": [
    {
     "name": "stdout",
     "output_type": "stream",
     "text": [
      ">> 4\n",
      ">> 1\n",
      "太大了!\n",
      ">> 2\n",
      "太大了!\n",
      ">> 0\n",
      "恭喜答對! a=0\n"
     ]
    }
   ],
   "source": [
    "a = randint(10)\n",
    "p = input(\">> \")\n",
    "\n",
    "while ( float(p) != a ):\n",
    "    p = input(\">> \")\n",
    "    if ( float(p) > a ):\n",
    "        print(\"太大了!\")\n",
    "    elif( float(p) < a ):\n",
    "        print(\"太小了!\")\n",
    "    else:\n",
    "        print(\"恭喜答對! a=\" + str(a) )"
   ]
  }
 ],
 "metadata": {
  "kernelspec": {
   "display_name": "Python 3",
   "language": "python",
   "name": "python3"
  },
  "language_info": {
   "codemirror_mode": {
    "name": "ipython",
    "version": 3
   },
   "file_extension": ".py",
   "mimetype": "text/x-python",
   "name": "python",
   "nbconvert_exporter": "python",
   "pygments_lexer": "ipython3",
   "version": "3.7.3"
  }
 },
 "nbformat": 4,
 "nbformat_minor": 2
}
