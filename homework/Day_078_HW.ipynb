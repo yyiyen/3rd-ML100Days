{
 "cells": [
  {
   "cell_type": "markdown",
   "metadata": {},
   "source": [
    "## Work\n",
    "1. 請嘗試將 preproc_x 替換成以每筆資料的 min/max 進行標準化至 -1 ~ 1 間，再進行訓練\n",
    "2. 請嘗試將 mlp 疊更深 (e.g 5~10 層)，進行訓練後觀察 learning curve 的走勢\n",
    "3. (optional) 請改用 GPU 進行訓練 (如果你有 GPU 的話)，比較使用 CPU 與 GPU 的訓練速度"
   ]
  },
  {
   "cell_type": "code",
   "execution_count": 1,
   "metadata": {},
   "outputs": [],
   "source": [
    "## \n",
    "\"\"\"\n",
    "Your code here (optional)\n",
    "確認硬體資源\n",
    "\"\"\"\n"
   ]
  },
  {
   "cell_type": "code",
   "execution_count": 1,
   "metadata": {},
   "outputs": [
    {
     "name": "stderr",
     "output_type": "stream",
     "text": [
      "Using TensorFlow backend.\n"
     ]
    }
   ],
   "source": [
    "import os\n",
    "import keras\n",
    "\n",
    "# 請嘗試設定 GPU：os.environ\n"
   ]
  },
  {
   "cell_type": "code",
   "execution_count": 2,
   "metadata": {},
   "outputs": [],
   "source": [
    "train, test = keras.datasets.cifar10.load_data()"
   ]
  },
  {
   "cell_type": "code",
   "execution_count": 4,
   "metadata": {},
   "outputs": [],
   "source": [
    "## 資料前處理\n",
    "\"\"\"\n",
    "Your code here\n",
    "\"\"\"\n",
    "def preproc_x(x, flatten=True):\n",
    "    x = x / 255. #normalization\n",
    "    if flatten:\n",
    "        x = x.reshape((len(x), -1))\n",
    "    return x\n",
    "\n",
    "def preproc_y(y, num_classes=10):\n",
    "    if y.shape[-1] == 1:\n",
    "        y = keras.utils.to_categorical(y, num_classes)\n",
    "    return y"
   ]
  },
  {
   "cell_type": "code",
   "execution_count": 5,
   "metadata": {},
   "outputs": [],
   "source": [
    "x_train, y_train = train\n",
    "x_test, y_test = test\n",
    "\n",
    "# Preproc the inputs\n",
    "x_train = preproc_x(x_train)\n",
    "x_test = preproc_x(x_test)\n",
    "\n",
    "# Preprc the outputs\n",
    "y_train = preproc_y(y_train)\n",
    "y_test = preproc_y(y_test)"
   ]
  },
  {
   "cell_type": "code",
   "execution_count": 6,
   "metadata": {},
   "outputs": [
    {
     "name": "stdout",
     "output_type": "stream",
     "text": [
      "Model: \"model_1\"\n",
      "_________________________________________________________________\n",
      "Layer (type)                 Output Shape              Param #   \n",
      "=================================================================\n",
      "input_1 (InputLayer)         (None, 3072)              0         \n",
      "_________________________________________________________________\n",
      "hidden_layer1 (Dense)        (None, 512)               1573376   \n",
      "_________________________________________________________________\n",
      "hidden_layer2 (Dense)        (None, 256)               131328    \n",
      "_________________________________________________________________\n",
      "hidden_layer3 (Dense)        (None, 128)               32896     \n",
      "_________________________________________________________________\n",
      "hidden_layer4 (Dense)        (None, 128)               16512     \n",
      "_________________________________________________________________\n",
      "hidden_layer5 (Dense)        (None, 64)                8256      \n",
      "_________________________________________________________________\n",
      "output (Dense)               (None, 10)                650       \n",
      "=================================================================\n",
      "Total params: 1,763,018\n",
      "Trainable params: 1,763,018\n",
      "Non-trainable params: 0\n",
      "_________________________________________________________________\n"
     ]
    }
   ],
   "source": [
    "\"\"\"Code Here\n",
    "建立你的神經網路\n",
    "\"\"\"\n",
    "def build_mlp(input_shape, output_units=10, num_neurons=[512, 256, 128, 128, 64]):\n",
    "    input_layer = keras.layers.Input(input_shape)\n",
    "    \n",
    "    for i, n_units in enumerate(num_neurons):\n",
    "        if i == 0:\n",
    "            x = keras.layers.Dense(units=n_units, activation=\"relu\", name=\"hidden_layer\"+str(i+1))(input_layer)\n",
    "        else:\n",
    "            x = keras.layers.Dense(units=n_units, activation=\"relu\", name=\"hidden_layer\"+str(i+1))(x)\n",
    "    \n",
    "    out = keras.layers.Dense(units=output_units, activation=\"softmax\", name=\"output\")(x)\n",
    "    \n",
    "    model = keras.models.Model(inputs=[input_layer], outputs=[out])\n",
    "    return model\n",
    "model = build_mlp(input_shape=x_train.shape[1:])\n",
    "model.summary()"
   ]
  },
  {
   "cell_type": "code",
   "execution_count": 7,
   "metadata": {},
   "outputs": [],
   "source": [
    "## 超參數設定\n",
    "LEARNING_RATE = 0.001\n",
    "EPOCHS = 100\n",
    "BATCH_SIZE = 256"
   ]
  },
  {
   "cell_type": "code",
   "execution_count": 8,
   "metadata": {},
   "outputs": [],
   "source": [
    "optimizer = keras.optimizers.Adam(lr=LEARNING_RATE)\n",
    "model.compile(loss=\"categorical_crossentropy\", metrics=[\"accuracy\"], optimizer=optimizer)"
   ]
  },
  {
   "cell_type": "code",
   "execution_count": 9,
   "metadata": {},
   "outputs": [
    {
     "name": "stdout",
     "output_type": "stream",
     "text": [
      "Train on 50000 samples, validate on 10000 samples\n",
      "Epoch 1/100\n",
      "50000/50000 [==============================] - 29s 570us/step - loss: 1.9388 - accuracy: 0.2886 - val_loss: 1.7542 - val_accuracy: 0.3610\n",
      "Epoch 2/100\n",
      "50000/50000 [==============================] - 29s 579us/step - loss: 1.7255 - accuracy: 0.3763 - val_loss: 1.6877 - val_accuracy: 0.3938\n",
      "Epoch 3/100\n",
      "50000/50000 [==============================] - 25s 508us/step - loss: 1.6348 - accuracy: 0.4139 - val_loss: 1.6631 - val_accuracy: 0.3987\n",
      "Epoch 4/100\n",
      "50000/50000 [==============================] - 28s 557us/step - loss: 1.5706 - accuracy: 0.4381 - val_loss: 1.5594 - val_accuracy: 0.4398\n",
      "Epoch 5/100\n",
      "50000/50000 [==============================] - 27s 544us/step - loss: 1.5171 - accuracy: 0.4558 - val_loss: 1.5398 - val_accuracy: 0.4521\n",
      "Epoch 6/100\n",
      "50000/50000 [==============================] - 27s 547us/step - loss: 1.4870 - accuracy: 0.4679 - val_loss: 1.4929 - val_accuracy: 0.4718\n",
      "Epoch 7/100\n",
      "50000/50000 [==============================] - 15s 303us/step - loss: 1.4434 - accuracy: 0.4843 - val_loss: 1.4740 - val_accuracy: 0.4790\n",
      "Epoch 8/100\n",
      "50000/50000 [==============================] - 30s 604us/step - loss: 1.4074 - accuracy: 0.4952 - val_loss: 1.4968 - val_accuracy: 0.4715\n",
      "Epoch 9/100\n",
      "50000/50000 [==============================] - 24s 484us/step - loss: 1.3921 - accuracy: 0.5022 - val_loss: 1.4664 - val_accuracy: 0.4761\n",
      "Epoch 10/100\n",
      "50000/50000 [==============================] - 20s 399us/step - loss: 1.3664 - accuracy: 0.5113 - val_loss: 1.4689 - val_accuracy: 0.4744\n",
      "Epoch 11/100\n",
      "50000/50000 [==============================] - 37s 735us/step - loss: 1.3379 - accuracy: 0.5201 - val_loss: 1.4220 - val_accuracy: 0.4884\n",
      "Epoch 12/100\n",
      "50000/50000 [==============================] - 14s 287us/step - loss: 1.3110 - accuracy: 0.5319 - val_loss: 1.4126 - val_accuracy: 0.4930\n",
      "Epoch 13/100\n",
      "50000/50000 [==============================] - 14s 284us/step - loss: 1.2944 - accuracy: 0.5348 - val_loss: 1.4526 - val_accuracy: 0.4828\n",
      "Epoch 14/100\n",
      "50000/50000 [==============================] - 15s 303us/step - loss: 1.2685 - accuracy: 0.5450 - val_loss: 1.4190 - val_accuracy: 0.5023\n",
      "Epoch 15/100\n",
      "50000/50000 [==============================] - 15s 305us/step - loss: 1.2475 - accuracy: 0.5519 - val_loss: 1.3988 - val_accuracy: 0.5099\n",
      "Epoch 16/100\n",
      "50000/50000 [==============================] - 16s 317us/step - loss: 1.2300 - accuracy: 0.5591 - val_loss: 1.3887 - val_accuracy: 0.5112\n",
      "Epoch 17/100\n",
      "50000/50000 [==============================] - 16s 323us/step - loss: 1.2085 - accuracy: 0.5646 - val_loss: 1.3980 - val_accuracy: 0.5118\n",
      "Epoch 18/100\n",
      "50000/50000 [==============================] - 16s 329us/step - loss: 1.1898 - accuracy: 0.5727 - val_loss: 1.3933 - val_accuracy: 0.5058\n",
      "Epoch 19/100\n",
      "50000/50000 [==============================] - 19s 386us/step - loss: 1.1667 - accuracy: 0.5825 - val_loss: 1.4100 - val_accuracy: 0.5021\n",
      "Epoch 20/100\n",
      "50000/50000 [==============================] - 17s 344us/step - loss: 1.1328 - accuracy: 0.5951 - val_loss: 1.4276 - val_accuracy: 0.5016\n",
      "Epoch 21/100\n",
      "50000/50000 [==============================] - 17s 346us/step - loss: 1.1145 - accuracy: 0.6015 - val_loss: 1.4269 - val_accuracy: 0.5153\n",
      "Epoch 22/100\n",
      "50000/50000 [==============================] - 17s 346us/step - loss: 1.0951 - accuracy: 0.6070 - val_loss: 1.3884 - val_accuracy: 0.5175\n",
      "Epoch 23/100\n",
      "50000/50000 [==============================] - 27s 537us/step - loss: 1.0812 - accuracy: 0.6096 - val_loss: 1.4454 - val_accuracy: 0.5050\n",
      "Epoch 24/100\n",
      "50000/50000 [==============================] - 27s 543us/step - loss: 1.0618 - accuracy: 0.6207 - val_loss: 1.4634 - val_accuracy: 0.5061\n",
      "Epoch 25/100\n",
      "50000/50000 [==============================] - 27s 531us/step - loss: 1.0374 - accuracy: 0.6270 - val_loss: 1.4202 - val_accuracy: 0.5174\n",
      "Epoch 26/100\n",
      "50000/50000 [==============================] - 26s 516us/step - loss: 1.0231 - accuracy: 0.6339 - val_loss: 1.4276 - val_accuracy: 0.5201\n",
      "Epoch 27/100\n",
      "50000/50000 [==============================] - 26s 519us/step - loss: 1.0019 - accuracy: 0.6413 - val_loss: 1.4708 - val_accuracy: 0.5072\n",
      "Epoch 28/100\n",
      "50000/50000 [==============================] - 26s 529us/step - loss: 0.9896 - accuracy: 0.6428 - val_loss: 1.4601 - val_accuracy: 0.5156\n",
      "Epoch 29/100\n",
      "50000/50000 [==============================] - 25s 491us/step - loss: 0.9650 - accuracy: 0.6533 - val_loss: 1.4346 - val_accuracy: 0.5185\n",
      "Epoch 30/100\n",
      "50000/50000 [==============================] - 27s 535us/step - loss: 0.9329 - accuracy: 0.6666 - val_loss: 1.4606 - val_accuracy: 0.5221\n",
      "Epoch 31/100\n",
      "50000/50000 [==============================] - 26s 529us/step - loss: 0.9176 - accuracy: 0.6705 - val_loss: 1.5200 - val_accuracy: 0.5168\n",
      "Epoch 32/100\n",
      "50000/50000 [==============================] - 27s 534us/step - loss: 0.9049 - accuracy: 0.6745 - val_loss: 1.5210 - val_accuracy: 0.5177\n",
      "Epoch 33/100\n",
      "50000/50000 [==============================] - 28s 562us/step - loss: 0.8900 - accuracy: 0.6805 - val_loss: 1.5224 - val_accuracy: 0.5127\n",
      "Epoch 34/100\n",
      "50000/50000 [==============================] - 29s 572us/step - loss: 0.8768 - accuracy: 0.6847 - val_loss: 1.5345 - val_accuracy: 0.5176\n",
      "Epoch 35/100\n",
      "50000/50000 [==============================] - 28s 563us/step - loss: 0.8459 - accuracy: 0.6948 - val_loss: 1.5720 - val_accuracy: 0.5166\n",
      "Epoch 36/100\n",
      "50000/50000 [==============================] - 36s 721us/step - loss: 0.8454 - accuracy: 0.6953 - val_loss: 1.5764 - val_accuracy: 0.5084\n",
      "Epoch 37/100\n",
      "50000/50000 [==============================] - 35s 701us/step - loss: 0.8168 - accuracy: 0.7047 - val_loss: 1.5590 - val_accuracy: 0.5135\n",
      "Epoch 38/100\n",
      "50000/50000 [==============================] - 24s 471us/step - loss: 0.8025 - accuracy: 0.7125 - val_loss: 1.6374 - val_accuracy: 0.5018\n",
      "Epoch 39/100\n",
      "50000/50000 [==============================] - 20s 401us/step - loss: 0.7883 - accuracy: 0.7161 - val_loss: 1.6475 - val_accuracy: 0.5099\n",
      "Epoch 40/100\n",
      "50000/50000 [==============================] - 21s 412us/step - loss: 0.7766 - accuracy: 0.7210 - val_loss: 1.6096 - val_accuracy: 0.5159\n",
      "Epoch 41/100\n",
      "50000/50000 [==============================] - 19s 373us/step - loss: 0.7512 - accuracy: 0.7301 - val_loss: 1.7139 - val_accuracy: 0.5076\n",
      "Epoch 42/100\n",
      "50000/50000 [==============================] - 20s 390us/step - loss: 0.7424 - accuracy: 0.7322 - val_loss: 1.7413 - val_accuracy: 0.5065\n",
      "Epoch 43/100\n",
      "50000/50000 [==============================] - 19s 377us/step - loss: 0.7391 - accuracy: 0.7344 - val_loss: 1.7102 - val_accuracy: 0.5098\n",
      "Epoch 44/100\n",
      "50000/50000 [==============================] - 18s 360us/step - loss: 0.7214 - accuracy: 0.7389 - val_loss: 1.7940 - val_accuracy: 0.5053\n",
      "Epoch 45/100\n",
      "50000/50000 [==============================] - 17s 350us/step - loss: 0.7013 - accuracy: 0.7492 - val_loss: 1.7959 - val_accuracy: 0.5053\n",
      "Epoch 46/100\n",
      "50000/50000 [==============================] - 18s 364us/step - loss: 0.6890 - accuracy: 0.7521 - val_loss: 1.7816 - val_accuracy: 0.5130\n",
      "Epoch 47/100\n",
      "50000/50000 [==============================] - 19s 387us/step - loss: 0.6706 - accuracy: 0.7583 - val_loss: 1.8298 - val_accuracy: 0.5112\n",
      "Epoch 48/100\n",
      "50000/50000 [==============================] - 19s 370us/step - loss: 0.6580 - accuracy: 0.7629 - val_loss: 1.8250 - val_accuracy: 0.5154\n",
      "Epoch 49/100\n",
      "50000/50000 [==============================] - 17s 348us/step - loss: 0.6391 - accuracy: 0.7699 - val_loss: 1.8489 - val_accuracy: 0.5147\n",
      "Epoch 50/100\n",
      "50000/50000 [==============================] - 21s 410us/step - loss: 0.6411 - accuracy: 0.7685 - val_loss: 1.9266 - val_accuracy: 0.5110\n",
      "Epoch 51/100\n",
      "50000/50000 [==============================] - 17s 340us/step - loss: 0.6311 - accuracy: 0.7727 - val_loss: 1.9379 - val_accuracy: 0.4958\n",
      "Epoch 52/100\n",
      "50000/50000 [==============================] - 17s 336us/step - loss: 0.6024 - accuracy: 0.7813 - val_loss: 2.0317 - val_accuracy: 0.5070\n",
      "Epoch 53/100\n",
      "50000/50000 [==============================] - 17s 347us/step - loss: 0.5909 - accuracy: 0.7875 - val_loss: 1.9554 - val_accuracy: 0.5118\n",
      "Epoch 54/100\n",
      "50000/50000 [==============================] - 17s 349us/step - loss: 0.5864 - accuracy: 0.7878 - val_loss: 2.0771 - val_accuracy: 0.4996\n"
     ]
    },
    {
     "name": "stdout",
     "output_type": "stream",
     "text": [
      "Epoch 55/100\n",
      "50000/50000 [==============================] - 23s 467us/step - loss: 0.5754 - accuracy: 0.7926 - val_loss: 2.0486 - val_accuracy: 0.5143\n",
      "Epoch 56/100\n",
      "50000/50000 [==============================] - 27s 540us/step - loss: 0.5665 - accuracy: 0.7955 - val_loss: 2.1935 - val_accuracy: 0.4916\n",
      "Epoch 57/100\n",
      "50000/50000 [==============================] - 27s 532us/step - loss: 0.5607 - accuracy: 0.7980 - val_loss: 2.1380 - val_accuracy: 0.5046\n",
      "Epoch 58/100\n",
      "50000/50000 [==============================] - 27s 537us/step - loss: 0.5335 - accuracy: 0.8088 - val_loss: 2.1753 - val_accuracy: 0.5041\n",
      "Epoch 59/100\n",
      "50000/50000 [==============================] - 25s 494us/step - loss: 0.5307 - accuracy: 0.8104 - val_loss: 2.1554 - val_accuracy: 0.5101\n",
      "Epoch 60/100\n",
      "50000/50000 [==============================] - 28s 568us/step - loss: 0.5242 - accuracy: 0.8112 - val_loss: 2.1919 - val_accuracy: 0.4987\n",
      "Epoch 61/100\n",
      "50000/50000 [==============================] - 29s 577us/step - loss: 0.5265 - accuracy: 0.8106 - val_loss: 2.2425 - val_accuracy: 0.5018\n",
      "Epoch 62/100\n",
      "50000/50000 [==============================] - 31s 613us/step - loss: 0.5287 - accuracy: 0.8084 - val_loss: 2.1808 - val_accuracy: 0.5002\n",
      "Epoch 63/100\n",
      "50000/50000 [==============================] - 28s 554us/step - loss: 0.4895 - accuracy: 0.8222 - val_loss: 2.3398 - val_accuracy: 0.4985\n",
      "Epoch 64/100\n",
      "50000/50000 [==============================] - 28s 565us/step - loss: 0.4891 - accuracy: 0.8231 - val_loss: 2.4643 - val_accuracy: 0.4932\n",
      "Epoch 65/100\n",
      "50000/50000 [==============================] - 29s 577us/step - loss: 0.4828 - accuracy: 0.8253 - val_loss: 2.3667 - val_accuracy: 0.4992\n",
      "Epoch 66/100\n",
      "50000/50000 [==============================] - 27s 543us/step - loss: 0.4988 - accuracy: 0.8183 - val_loss: 2.3595 - val_accuracy: 0.5003\n",
      "Epoch 67/100\n",
      "50000/50000 [==============================] - 24s 484us/step - loss: 0.4706 - accuracy: 0.8292 - val_loss: 2.4366 - val_accuracy: 0.5033\n",
      "Epoch 68/100\n",
      "50000/50000 [==============================] - 25s 506us/step - loss: 0.4612 - accuracy: 0.8343 - val_loss: 2.5244 - val_accuracy: 0.4845\n",
      "Epoch 69/100\n",
      "50000/50000 [==============================] - 27s 537us/step - loss: 0.4692 - accuracy: 0.8310 - val_loss: 2.4932 - val_accuracy: 0.5001\n",
      "Epoch 70/100\n",
      "50000/50000 [==============================] - 28s 563us/step - loss: 0.4415 - accuracy: 0.8410 - val_loss: 2.6135 - val_accuracy: 0.5015\n",
      "Epoch 71/100\n",
      "50000/50000 [==============================] - 23s 459us/step - loss: 0.4398 - accuracy: 0.8430 - val_loss: 2.5432 - val_accuracy: 0.5048\n",
      "Epoch 72/100\n",
      "50000/50000 [==============================] - 26s 511us/step - loss: 0.4394 - accuracy: 0.8416 - val_loss: 2.5350 - val_accuracy: 0.4956\n",
      "Epoch 73/100\n",
      "50000/50000 [==============================] - 27s 545us/step - loss: 0.4263 - accuracy: 0.8463 - val_loss: 2.6261 - val_accuracy: 0.4993\n",
      "Epoch 74/100\n",
      "50000/50000 [==============================] - 27s 548us/step - loss: 0.4086 - accuracy: 0.8529 - val_loss: 2.7611 - val_accuracy: 0.4911\n",
      "Epoch 75/100\n",
      "50000/50000 [==============================] - 19s 381us/step - loss: 0.4225 - accuracy: 0.8471 - val_loss: 2.6866 - val_accuracy: 0.4943\n",
      "Epoch 76/100\n",
      "50000/50000 [==============================] - 17s 339us/step - loss: 0.4167 - accuracy: 0.8503 - val_loss: 2.7223 - val_accuracy: 0.4995\n",
      "Epoch 77/100\n",
      "50000/50000 [==============================] - 18s 353us/step - loss: 0.4070 - accuracy: 0.8529 - val_loss: 2.7303 - val_accuracy: 0.4956\n",
      "Epoch 78/100\n",
      "50000/50000 [==============================] - 20s 401us/step - loss: 0.3941 - accuracy: 0.8574 - val_loss: 2.9412 - val_accuracy: 0.4915\n",
      "Epoch 79/100\n",
      "50000/50000 [==============================] - 19s 381us/step - loss: 0.3998 - accuracy: 0.8562 - val_loss: 2.7945 - val_accuracy: 0.4970\n",
      "Epoch 80/100\n",
      "50000/50000 [==============================] - 18s 353us/step - loss: 0.3626 - accuracy: 0.8703 - val_loss: 2.8584 - val_accuracy: 0.5047\n",
      "Epoch 81/100\n",
      "50000/50000 [==============================] - 17s 347us/step - loss: 0.3951 - accuracy: 0.8577 - val_loss: 2.8430 - val_accuracy: 0.4950\n",
      "Epoch 82/100\n",
      "50000/50000 [==============================] - 17s 343us/step - loss: 0.3958 - accuracy: 0.8565 - val_loss: 2.8918 - val_accuracy: 0.4921\n",
      "Epoch 83/100\n",
      "50000/50000 [==============================] - 18s 359us/step - loss: 0.3813 - accuracy: 0.8626 - val_loss: 2.9548 - val_accuracy: 0.5041\n",
      "Epoch 84/100\n",
      "50000/50000 [==============================] - 19s 371us/step - loss: 0.3535 - accuracy: 0.8718 - val_loss: 3.0676 - val_accuracy: 0.4984\n",
      "Epoch 85/100\n",
      "50000/50000 [==============================] - 18s 370us/step - loss: 0.3800 - accuracy: 0.8637 - val_loss: 2.8803 - val_accuracy: 0.4955\n",
      "Epoch 86/100\n",
      "50000/50000 [==============================] - 18s 359us/step - loss: 0.3720 - accuracy: 0.8638 - val_loss: 2.9988 - val_accuracy: 0.4939\n",
      "Epoch 87/100\n",
      "50000/50000 [==============================] - 18s 363us/step - loss: 0.3602 - accuracy: 0.8703 - val_loss: 3.1003 - val_accuracy: 0.4898\n",
      "Epoch 88/100\n",
      "50000/50000 [==============================] - 18s 357us/step - loss: 0.3661 - accuracy: 0.8673 - val_loss: 3.0182 - val_accuracy: 0.4920\n",
      "Epoch 89/100\n",
      "50000/50000 [==============================] - 18s 362us/step - loss: 0.3350 - accuracy: 0.8802 - val_loss: 3.0256 - val_accuracy: 0.4995\n",
      "Epoch 90/100\n",
      "50000/50000 [==============================] - 18s 367us/step - loss: 0.3347 - accuracy: 0.8789 - val_loss: 3.1581 - val_accuracy: 0.4973\n",
      "Epoch 91/100\n",
      "50000/50000 [==============================] - 18s 360us/step - loss: 0.3267 - accuracy: 0.8833 - val_loss: 3.1207 - val_accuracy: 0.4993\n",
      "Epoch 92/100\n",
      "50000/50000 [==============================] - 18s 363us/step - loss: 0.2976 - accuracy: 0.8949 - val_loss: 3.3340 - val_accuracy: 0.4972\n",
      "Epoch 93/100\n",
      "50000/50000 [==============================] - 18s 357us/step - loss: 0.3314 - accuracy: 0.8812 - val_loss: 3.1944 - val_accuracy: 0.5005\n",
      "Epoch 94/100\n",
      "50000/50000 [==============================] - 18s 357us/step - loss: 0.3540 - accuracy: 0.8720 - val_loss: 3.1650 - val_accuracy: 0.4914\n",
      "Epoch 95/100\n",
      "50000/50000 [==============================] - 18s 354us/step - loss: 0.3399 - accuracy: 0.8778 - val_loss: 3.3289 - val_accuracy: 0.4901\n",
      "Epoch 96/100\n",
      "50000/50000 [==============================] - 19s 373us/step - loss: 0.3441 - accuracy: 0.8765 - val_loss: 3.1833 - val_accuracy: 0.4931\n",
      "Epoch 97/100\n",
      "50000/50000 [==============================] - 18s 361us/step - loss: 0.3187 - accuracy: 0.8863 - val_loss: 3.3549 - val_accuracy: 0.4940\n",
      "Epoch 98/100\n",
      "50000/50000 [==============================] - 18s 359us/step - loss: 0.3157 - accuracy: 0.8859 - val_loss: 3.1822 - val_accuracy: 0.4915\n",
      "Epoch 99/100\n",
      "50000/50000 [==============================] - 17s 337us/step - loss: 0.3344 - accuracy: 0.8802 - val_loss: 3.2117 - val_accuracy: 0.4950\n",
      "Epoch 100/100\n",
      "50000/50000 [==============================] - 18s 354us/step - loss: 0.3219 - accuracy: 0.8848 - val_loss: 3.2670 - val_accuracy: 0.4938\n"
     ]
    },
    {
     "data": {
      "text/plain": [
       "<keras.callbacks.callbacks.History at 0x20b4551ff60>"
      ]
     },
     "execution_count": 9,
     "metadata": {},
     "output_type": "execute_result"
    }
   ],
   "source": [
    "model.fit(x_train, y_train, \n",
    "          epochs=EPOCHS, \n",
    "          batch_size=BATCH_SIZE, \n",
    "          validation_data=(x_test, y_test), \n",
    "          shuffle=True)"
   ]
  },
  {
   "cell_type": "code",
   "execution_count": 11,
   "metadata": {},
   "outputs": [
    {
     "data": {
      "image/png": "[encoded data removed]",
      "text/plain": [
       "<Figure size 432x288 with 1 Axes>"
      ]
     },
     "metadata": {
      "needs_background": "light"
     },
     "output_type": "display_data"
    },
    {
     "data": {
      "image/png": "[encoded data removed]",
      "text/plain": [
       "<Figure size 432x288 with 1 Axes>"
      ]
     },
     "metadata": {
      "needs_background": "light"
     },
     "output_type": "display_data"
    }
   ],
   "source": [
    "import matplotlib.pyplot as plt\n",
    "\n",
    "\n",
    "train_loss = model.history.history[\"loss\"]\n",
    "valid_loss = model.history.history[\"val_loss\"]\n",
    "\n",
    "train_acc = model.history.history[\"accuracy\"]\n",
    "valid_acc = model.history.history[\"val_accuracy\"]\n",
    "\n",
    "plt.plot(range(len(train_loss)), train_loss, label=\"train loss\")\n",
    "plt.plot(range(len(valid_loss)), valid_loss, label=\"valid loss\")\n",
    "plt.legend()\n",
    "plt.title(\"Loss\")\n",
    "plt.show()\n",
    "\n",
    "plt.plot(range(len(train_acc)), train_acc, label=\"train accuracy\")\n",
    "plt.plot(range(len(valid_acc)), valid_acc, label=\"valid accuracy\")\n",
    "plt.legend()\n",
    "plt.title(\"Accuracy\")\n",
    "plt.show()"
   ]
  },
  {
   "cell_type": "code",
   "execution_count": null,
   "metadata": {},
   "outputs": [],
   "source": []
  }
 ],
 "metadata": {
  "kernelspec": {
   "display_name": "Python 3",
   "language": "python",
   "name": "python3"
  },
  "language_info": {
   "codemirror_mode": {
    "name": "ipython",
    "version": 3
   },
   "file_extension": ".py",
   "mimetype": "text/x-python",
   "name": "python",
   "nbconvert_exporter": "python",
   "pygments_lexer": "ipython3",
   "version": "3.6.10"
  }
 },
 "nbformat": 4,
 "nbformat_minor": 2
}
